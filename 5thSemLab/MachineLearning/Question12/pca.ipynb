{
 "cells": [
  {
   "cell_type": "code",
   "execution_count": 17,
   "id": "2821c4d2",
   "metadata": {},
   "outputs": [
    {
     "name": "stdout",
     "output_type": "stream",
     "text": [
      "Scaled Data             0         1         2         3         4         5\n",
      "0   -1.690187 -0.820478  0.975487 -1.301159 -1.299067 -1.210338\n",
      "1   -1.667444 -1.073126 -0.136524 -1.301159 -1.299067 -1.210338\n",
      "2   -1.644701 -1.325773  0.308280 -1.358874 -1.299067 -1.210338\n",
      "3   -1.621958 -1.452097  0.085878 -1.243444 -1.299067 -1.210338\n",
      "4   -1.599215 -0.946802  1.197889 -1.301159 -1.299067 -1.210338\n",
      "..        ...       ...       ...       ...       ...       ...\n",
      "96   1.584803  1.200700  0.530683  1.180586  1.789707  1.284440\n",
      "97   1.607546  1.200700 -0.136524  0.892011  1.521118  1.284440\n",
      "98   1.630289  0.695405 -1.248535  0.776581  0.983940  1.284440\n",
      "99   1.675775  0.569082  0.753085  1.007441  1.521118  1.284440\n",
      "100  1.698518  0.190111 -0.136524  0.834296  0.849645  1.284440\n",
      "\n",
      "[101 rows x 6 columns]\n"
     ]
    }
   ],
   "source": [
    "from sklearn.model_selection import train_test_split\n",
    "from sklearn.preprocessing import StandardScaler\n",
    "from sklearn.decomposition import PCA\n",
    "import pandas as pd\n",
    "\n",
    "mydata = pd.read_csv(\"~/Documents/Lab-Programs/5thSemLab/MachineLearning/Datasets/Iris_data.csv\")\n",
    "scalar = StandardScaler()\n",
    "scaled_data = pd.DataFrame(scalar.fit_transform(mydata))\n",
    "print(\"Scaled Data\", scaled_data)\n",
    "pca = PCA(n_compoenets = 2)\n",
    "pca.fit(mydata)\n",
    "data_pca = pca.tranform(data)\n",
    "data_pca = pd.DataFrame(data_pca, columns=['PC1', 'PC2'])\n"
   ]
  },
  {
   "cell_type": "code",
   "execution_count": null,
   "id": "ebf03b18",
   "metadata": {},
   "outputs": [],
   "source": []
  }
 ],
 "metadata": {
  "kernelspec": {
   "display_name": "Python 3 (ipykernel)",
   "language": "python",
   "name": "python3"
  },
  "language_info": {
   "codemirror_mode": {
    "name": "ipython",
    "version": 3
   },
   "file_extension": ".py",
   "mimetype": "text/x-python",
   "name": "python",
   "nbconvert_exporter": "python",
   "pygments_lexer": "ipython3",
   "version": "3.11.4"
  }
 },
 "nbformat": 4,
 "nbformat_minor": 5
}
