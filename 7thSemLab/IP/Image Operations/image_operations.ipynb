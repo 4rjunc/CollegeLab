{
 "cells": [
  {
   "cell_type": "code",
   "execution_count": 4,
   "id": "cf651ba1",
   "metadata": {},
   "outputs": [
    {
     "name": "stdout",
     "output_type": "stream",
     "text": [
      "Image Size (1500, 1087)\n",
      "Image Mod RGB\n",
      "Image Format JPEG\n",
      "Image Size (225, 224)\n",
      "Image Mod RGB\n",
      "Image Format JPEG\n",
      "Image Size (977, 663)\n",
      "Image Mod RGB\n",
      "Image Format WEBP\n",
      "Image Size (1500, 1001)\n",
      "Image Mod RGB\n",
      "Image Format JPEG\n",
      "Image Size (285, 177)\n",
      "Image Mod RGB\n",
      "Image Format JPEG\n"
     ]
    }
   ],
   "source": [
    "from PIL import Image\n",
    "import os \n",
    "import shutil\n",
    "\n",
    "def print_image(path, cpfolder):\n",
    "    img = Image.open(path)\n",
    "    img.show()\n",
    "    print(\"Image Size\", img.size)\n",
    "    print(\"Image Mod\", img.mode)\n",
    "    print(\"Image Format\", img.format)\n",
    "    shutil.copy(path, cpfolder) #Copy file to cpfolder\n",
    "\n",
    "folder = \"images\"\n",
    "cpfolder= \"images2\"\n",
    "path = os.listdir(folder)\n",
    "for x in path:\n",
    "    print_image(f\"{folder}/{x}\", cpfolder)\n",
    "    "
   ]
  },
  {
   "cell_type": "code",
   "execution_count": null,
   "id": "ff364091",
   "metadata": {},
   "outputs": [],
   "source": []
  }
 ],
 "metadata": {
  "kernelspec": {
   "display_name": "Python 3 (ipykernel)",
   "language": "python",
   "name": "python3"
  },
  "language_info": {
   "codemirror_mode": {
    "name": "ipython",
    "version": 3
   },
   "file_extension": ".py",
   "mimetype": "text/x-python",
   "name": "python",
   "nbconvert_exporter": "python",
   "pygments_lexer": "ipython3",
   "version": "3.11.4"
  }
 },
 "nbformat": 4,
 "nbformat_minor": 5
}
