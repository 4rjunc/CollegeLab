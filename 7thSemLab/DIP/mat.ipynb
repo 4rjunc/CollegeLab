{
 "cells": [
  {
   "cell_type": "code",
   "execution_count": null,
   "metadata": {},
   "outputs": [],
   "source": []
  },
  {
   "cell_type": "code",
   "execution_count": 5,
   "metadata": {},
   "outputs": [
    {
     "name": "stdout",
     "output_type": "stream",
     "text": [
      "Original Image:\n",
      "\n",
      "Smoothed Image:\n"
     ]
    },
    {
     "data": {
      "text/plain": [
       "<matplotlib.image.AxesImage at 0x10f25ff50>"
      ]
     },
     "execution_count": 5,
     "metadata": {},
     "output_type": "execute_result"
    },
    {
     "data": {
      "image/png": "[encoded data removed]",
      "text/plain": [
       "<Figure size 640x480 with 1 Axes>"
      ]
     },
     "metadata": {},
     "output_type": "display_data"
    }
   ],
   "source": [
    "import numpy as np\n",
    "from scipy.ndimage import convolve\n",
    "from matplotlib import pyplot as plt\n",
    "\n",
    "def gaussian_kernel(size, sigma):\n",
    "    \"\"\"Generate a Gaussian kernel.\"\"\"\n",
    "    kernel = np.fromfunction(\n",
    "        lambda x, y: (1/(2*np.pi*sigma**2)) * np.exp(-((x-(size-1)/2)**2 + (y-(size-1)/2)**2)/(2*sigma**2)),\n",
    "        (size, size)\n",
    "    )\n",
    "    return kernel / np.sum(kernel)\n",
    "\n",
    "def gaussian_smooth(image, kernel_size, sigma):\n",
    "    \"\"\"Apply Gaussian smoothing to the input image.\"\"\"\n",
    "    kernel = gaussian_kernel(kernel_size, sigma)\n",
    "    smoothed_image = convolve(image, kernel, mode='constant', cval=0.0)\n",
    "    return smoothed_image\n",
    "\n",
    "# Example usage:\n",
    "image = np.array([[20, 30, 10],\n",
    "                  [15, 25, 12],\n",
    "                  [18, 22, 28]])\n",
    "\n",
    "kernel_size = 3\n",
    "sigma = 1.0\n",
    "\n",
    "smoothed_image = gaussian_smooth(image, kernel_size, sigma)\n",
    "\n",
    "# Print the original and smoothed images\n",
    "print(\"Original Image:\")\n",
    "plt.imshow(image)\n",
    "print(\"\\nSmoothed Image:\")\n",
    "plt.imshow(smoothed_image)\n"
   ]
  }
 ],
 "metadata": {
  "kernelspec": {
   "display_name": "Python 3",
   "language": "python",
   "name": "python3"
  },
  "language_info": {
   "codemirror_mode": {
    "name": "ipython",
    "version": 3
   },
   "file_extension": ".py",
   "mimetype": "text/x-python",
   "name": "python",
   "nbconvert_exporter": "python",
   "pygments_lexer": "ipython3",
   "version": "3.11.5"
  }
 },
 "nbformat": 4,
 "nbformat_minor": 2
}
