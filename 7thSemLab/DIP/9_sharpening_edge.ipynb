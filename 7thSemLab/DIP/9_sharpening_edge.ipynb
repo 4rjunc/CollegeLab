{
 "cells": [
  {
   "cell_type": "code",
   "execution_count": 5,
   "metadata": {},
   "outputs": [
    {
     "data": {
      "text/plain": [
       "array([[  0,   0,   0, ...,   0,   0,   0],\n",
       "       [  0,   0,   0, ...,   0,   0,   0],\n",
       "       [  0,   0,   0, ...,   0,   0,   0],\n",
       "       ...,\n",
       "       [  0,   0, 255, ...,   0,   0,   0],\n",
       "       [255, 255, 255, ..., 255, 255, 255],\n",
       "       [  0,   0, 255, ...,   0,   0,   0]], dtype=uint8)"
      ]
     },
     "metadata": {},
     "output_type": "display_data"
    }
   ],
   "source": [
    "import cv2\n",
    "import matplotlib.pyplot as plt\n",
    "import numpy as np \n",
    "\n",
    "img = cv2.imread(\"./images/penguin.jpeg\")\n",
    "\n",
    "gblur = cv2.GaussianBlur(img, (3,3), 0)\n",
    "\n",
    "kernal = np.array([[0,-1,0],[-1,5,-1],[0,-1,0]])\n",
    "\n",
    "sharpening = cv2.filter2D(img, -1, kernel=kernal)\n",
    "\n",
    "cv2.imwrite(\"sharpening.jpeg\", sharpening)\n",
    "\n",
    "edges = cv2.Canny(image=gblur, threshold1=100, threshold2=100)\n",
    "\n",
    "display(edges)"
   ]
  }
 ],
 "metadata": {
  "kernelspec": {
   "display_name": "Python 3",
   "language": "python",
   "name": "python3"
  },
  "language_info": {
   "codemirror_mode": {
    "name": "ipython",
    "version": 3
   },
   "file_extension": ".py",
   "mimetype": "text/x-python",
   "name": "python",
   "nbconvert_exporter": "python",
   "pygments_lexer": "ipython3",
   "version": "3.10.12"
  }
 },
 "nbformat": 4,
 "nbformat_minor": 2
}
