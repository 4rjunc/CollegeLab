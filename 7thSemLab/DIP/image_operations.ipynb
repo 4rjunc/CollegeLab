{
 "cells": [
  {
   "cell_type": "markdown",
   "id": "42918439",
   "metadata": {},
   "source": []
  },
  {
   "cell_type": "code",
   "execution_count": 1,
   "id": "cf651ba1",
   "metadata": {},
   "outputs": [],
   "source": [
    "from PIL import Image\n",
    "import os \n",
    "import shutil"
   ]
  },
  {
   "cell_type": "markdown",
   "id": "6e917812",
   "metadata": {},
   "source": [
    "Import [PIL][def] The Python Imaging Library adds image processing capabilities to your Python interpreter, os, shutil.\n",
    "\n",
    "[def]: https://pillow.readthedocs.io/en/stable/"
   ]
  },
  {
   "cell_type": "code",
   "execution_count": 2,
   "id": "d96fd7ee",
   "metadata": {},
   "outputs": [],
   "source": [
    "def print_image(path, cpfolder):\n",
    "    img = Image.open(path)\n",
    "    img.show()\n",
    "    print(\"\\n\\n\", path)\n",
    "    print(\"Image Size\", img.size)\n",
    "    print(\"Image Mod\", img.mode)\n",
    "    print(\"Image Format\", img.format)\n",
    "    r_channel, g_channel, b_channel = img.split()\n",
    "    pixel_data = list(img.getdata())\n",
    "    first_pixel_color = pixel_data[0]\n",
    "    print(\"Color of first pixel\", first_pixel_color)\n",
    "    print(f\"{r_channel=},\\n {g_channel=}, \\n {b_channel=}\")                                                                                \n",
    "    os.makedirs(cpfolder, exist_ok=True) #Create folder if it does't exist\n",
    "    shutil.copy(path, cpfolder) #Copy file to cpfolder    "
   ]
  },
  {
   "cell_type": "markdown",
   "id": "95b98f0b",
   "metadata": {},
   "source": [
    "This function do the operation on the images with the help of PIL "
   ]
  },
  {
   "cell_type": "code",
   "execution_count": 3,
   "id": "320040b3",
   "metadata": {},
   "outputs": [
    {
     "name": "stdout",
     "output_type": "stream",
     "text": [
      "\n",
      "\n",
      " images/flower.jpg\n",
      "Image Size (1500, 1001)\n",
      "Image Mod RGB\n",
      "Image Format JPEG\n",
      "Color of first pixel (85, 102, 60)\n",
      "r_channel=<PIL.Image.Image image mode=L size=1500x1001 at 0x7F441255D420>,\n",
      " g_channel=<PIL.Image.Image image mode=L size=1500x1001 at 0x7F441255D510>, \n",
      " b_channel=<PIL.Image.Image image mode=L size=1500x1001 at 0x7F441255D540>\n"
     ]
    },
    {
     "name": "stderr",
     "output_type": "stream",
     "text": [
      "\n",
      "** (xviewer:6497): CRITICAL **: 12:34:27.842: xviewer_list_store_get_pos_by_image: assertion 'XVIEWER_IS_IMAGE (image)' failed\n",
      "\n",
      "** (xviewer:6497): CRITICAL **: 12:34:27.970: xviewer_image_get_file: assertion 'XVIEWER_IS_IMAGE (img)' failed\n",
      "\n",
      "(xviewer:6497): GLib-GIO-CRITICAL **: 12:34:27.970: g_file_equal: assertion 'G_IS_FILE (file1)' failed\n"
     ]
    },
    {
     "name": "stdout",
     "output_type": "stream",
     "text": [
      "\n",
      "\n",
      " images/flower2.jpeg\n",
      "Image Size (225, 224)\n",
      "Image Mod RGB\n",
      "Image Format JPEG\n",
      "Color of first pixel (255, 221, 167)\n",
      "r_channel=<PIL.Image.Image image mode=L size=225x224 at 0x7F441255D510>,\n",
      " g_channel=<PIL.Image.Image image mode=L size=225x224 at 0x7F441255D330>, \n",
      " b_channel=<PIL.Image.Image image mode=L size=225x224 at 0x7F441255D600>\n",
      "\n",
      "\n",
      " images/flower1.jpeg\n",
      "Image Size (285, 177)\n",
      "Image Mod RGB\n",
      "Image Format JPEG\n",
      "Color of first pixel (123, 161, 244)\n",
      "r_channel=<PIL.Image.Image image mode=L size=285x177 at 0x7F441255D390>,\n",
      " g_channel=<PIL.Image.Image image mode=L size=285x177 at 0x7F441255D360>, \n",
      " b_channel=<PIL.Image.Image image mode=L size=285x177 at 0x7F441255D2D0>\n",
      "\n",
      "\n",
      " images/flower4.jpg\n",
      "Image Size (1500, 1087)\n",
      "Image Mod RGB\n",
      "Image Format JPEG\n",
      "Color of first pixel (33, 57, 5)\n",
      "r_channel=<PIL.Image.Image image mode=L size=1500x1087 at 0x7F441255D3C0>,\n",
      " g_channel=<PIL.Image.Image image mode=L size=1500x1087 at 0x7F441255D330>, \n",
      " b_channel=<PIL.Image.Image image mode=L size=1500x1087 at 0x7F441255D6F0>\n",
      "\n",
      "\n",
      " images/flower3.webp\n",
      "Image Size (977, 663)\n",
      "Image Mod RGB\n",
      "Image Format WEBP\n",
      "Color of first pixel (8, 21, 12)\n",
      "r_channel=<PIL.Image.Image image mode=L size=977x663 at 0x7F44125EF1F0>,\n",
      " g_channel=<PIL.Image.Image image mode=L size=977x663 at 0x7F44125EF910>, \n",
      " b_channel=<PIL.Image.Image image mode=L size=977x663 at 0x7F44125EF9A0>\n"
     ]
    }
   ],
   "source": [
    "\n",
    "folder = \"images\"\n",
    "cpfolder= \"images3\"\n",
    "path = os.listdir(folder)\n",
    "for x in path:\n",
    "    print_image(f\"{folder}/{x}\", cpfolder)\n",
    "    "
   ]
  },
  {
   "cell_type": "markdown",
   "id": "52b00af4",
   "metadata": {},
   "source": [
    "This will print out the deatils of an image"
   ]
  },
  {
   "cell_type": "code",
   "execution_count": null,
   "id": "ff364091",
   "metadata": {},
   "outputs": [],
   "source": []
  }
 ],
 "metadata": {
  "kernelspec": {
   "display_name": "Python 3 (ipykernel)",
   "language": "python",
   "name": "python3"
  },
  "language_info": {
   "codemirror_mode": {
    "name": "ipython",
    "version": 3
   },
   "file_extension": ".py",
   "mimetype": "text/x-python",
   "name": "python",
   "nbconvert_exporter": "python",
   "pygments_lexer": "ipython3",
   "version": "3.10.12"
  }
 },
 "nbformat": 4,
 "nbformat_minor": 5
}
