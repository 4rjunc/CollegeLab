{
 "cells": [
  {
   "cell_type": "code",
   "execution_count": 10,
   "metadata": {},
   "outputs": [
    {
     "name": "stdout",
     "output_type": "stream",
     "text": [
      "Matrix a=array([[ 1,  2,  3,  4],\n",
      "       [ 5,  6,  7,  8],\n",
      "       [ 9, 10, 11, 12],\n",
      "       [13, 14, 15, 16]])\n",
      "Selected element in matrix is 11\n",
      "4 Neighbour, N4 =[15, 7, 10, 12]\n",
      "8 Neighbour, N8=[15, 7, 10, 12, 16, 6, 14, 8]\n",
      "Diagonal Elements [[16, 6, 14, 8]]\n"
     ]
    }
   ],
   "source": [
    "import numpy as np\n",
    "\n",
    "a=np.array([[1,2,3,4],\n",
    "   [5,6,7,8],\n",
    "   [9,10,11,12],\n",
    "   [13,14,15,16]])\n",
    "\n",
    "print(f\"Matrix {a=}\")\n",
    "\n",
    "b = int(input(\"Enter the column position(0 to 4)\"))\n",
    "c = int(input(\"Enter the column position(0 to 4)\"))\n",
    "print(\"Selected element in matrix is\", a[b,c])\n",
    "\n",
    "N4=[] # 4 neighbours\n",
    "if b+1 < 5:\n",
    "    N4.append(a[b+1,c])\n",
    "if b-1 >= 0 :\n",
    "    N4.append(a[b-1,c])\n",
    "if c-1 >= 0:\n",
    "    N4.append(a[b,c-1])\n",
    "if c+1 >= 0:\n",
    "    N4.append(a[b,c+1])\n",
    "\n",
    "print(f\"4 Neighbour, {N4 =}\") \n",
    "\n",
    "N8=[] # 8 neighbours\n",
    "N8+=N4\n",
    "if b+1 < 5 and c+1 < 5:\n",
    "    N8.append(a[b+1,c+1])\n",
    "\n",
    "if b-1 >= 0 and c - 1 >= 0:\n",
    "    N8.append(a[b-1,c-1])\n",
    "\n",
    "if b+1 < 5 and c - 1 >=0:\n",
    "    N8.append(a[b+1, c-1])\n",
    "\n",
    "if b-1 >= 0 and c + 1 < 5:\n",
    "    N8.append(a[b-1, c+1])\n",
    "\n",
    "print(f\"8 Neighbour, {N8=}\")\n",
    "ND = [] # Diagonal Elements\n",
    "ND.append(N8[-4:])\n",
    "\n",
    "print(\"Diagonal Elements\", ND)\n",
    "\n",
    "\n",
    "\n",
    "\n",
    "\n",
    "\n"
   ]
  }
 ],
 "metadata": {
  "kernelspec": {
   "display_name": "Python 3",
   "language": "python",
   "name": "python3"
  },
  "language_info": {
   "codemirror_mode": {
    "name": "ipython",
    "version": 3
   },
   "file_extension": ".py",
   "mimetype": "text/x-python",
   "name": "python",
   "nbconvert_exporter": "python",
   "pygments_lexer": "ipython3",
   "version": "3.10.12"
  },
  "orig_nbformat": 4
 },
 "nbformat": 4,
 "nbformat_minor": 2
}
