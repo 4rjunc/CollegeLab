{
 "cells": [
  {
   "cell_type": "markdown",
   "id": "42918439",
   "metadata": {},
   "source": []
  },
  {
   "cell_type": "code",
   "execution_count": 10,
   "id": "cf651ba1",
   "metadata": {},
   "outputs": [],
   "source": [
    "from PIL import Image"
   ]
  },
  {
   "cell_type": "markdown",
   "id": "6e917812",
   "metadata": {},
   "source": [
    "Import [PIL][def] The Python Imaging Library adds image processing capabilities to your Python interpreter.\n",
    "\n",
    "[def]: https://pillow.readthedocs.io/en/stable/"
   ]
  },
  {
   "cell_type": "code",
   "execution_count": 11,
   "id": "d96fd7ee",
   "metadata": {},
   "outputs": [],
   "source": [
    "def print_image(path):\n",
    "    img = Image.open(path)\n",
    "    print(\"\\n\\n\",path)\n",
    "    pixel_data = list(img.getdata())\n",
    "    first_pixel_color = pixel_data[0] \n",
    "    print(\"Color of first pixel\", first_pixel_color)\n",
    "    r_channel, g_channel, b_channel = img.split()\n",
    "    print(f\"{r_channel=},\\n{g_channel=},\\n{b_channel=}\")   \n",
    "    print(\"r_channel\", r_channel.show()) \n",
    "    print(\"g_channel\", g_channel.show())      \n",
    "    print(\"g_channel\", b_channel.show())                                                                         "
   ]
  },
  {
   "cell_type": "markdown",
   "id": "95b98f0b",
   "metadata": {},
   "source": [
    "[Split](https://pillow.readthedocs.io/en/stable/reference/Image.html#PIL.Image.Image.split) this image into individual bands. This method returns a tuple of individual image bands from an image. For example, splitting an “RGB” image creates three new images each containing a copy of one of the original bands (red, green, blue)."
   ]
  },
  {
   "cell_type": "code",
   "execution_count": 12,
   "id": "320040b3",
   "metadata": {},
   "outputs": [
    {
     "name": "stdout",
     "output_type": "stream",
     "text": [
      "\n",
      "\n",
      " images/flower.jpg\n",
      "Color of first pixel (85, 102, 60)\n",
      "r_channel=<PIL.Image.Image image mode=L size=1500x1001 at 0x7F9B0C40B850>,\n",
      "g_channel=<PIL.Image.Image image mode=L size=1500x1001 at 0x7F9B0C40BA30>,\n",
      "b_channel=<PIL.Image.Image image mode=L size=1500x1001 at 0x7F9B0C40B9A0>\n",
      "r_channel None\n",
      "g_channel None\n",
      "g_channel None\n"
     ]
    }
   ],
   "source": [
    "\n",
    "folder = \"images/flower.jpg\"\n",
    "print_image(folder)\n",
    "    "
   ]
  }
 ],
 "metadata": {
  "kernelspec": {
   "display_name": "Python 3 (ipykernel)",
   "language": "python",
   "name": "python3"
  },
  "language_info": {
   "codemirror_mode": {
    "name": "ipython",
    "version": 3
   },
   "file_extension": ".py",
   "mimetype": "text/x-python",
   "name": "python",
   "nbconvert_exporter": "python",
   "pygments_lexer": "ipython3",
   "version": "3.10.12"
  }
 },
 "nbformat": 4,
 "nbformat_minor": 5
}
