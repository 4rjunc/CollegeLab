{
 "cells": [
  {
   "cell_type": "code",
   "execution_count": 46,
   "metadata": {},
   "outputs": [
    {
     "name": "stdout",
     "output_type": "stream",
     "text": [
      "objective_function(population)=array([34.27690655, 20.34813469, 44.385919  ,  5.63270082,  7.35957884,\n",
      "       48.66950734,  7.22337052, 69.24109286, 30.85119339,  0.26957471,\n",
      "        9.5429527 ,  4.20159646, 30.85119339, 69.24109286, 22.90082585,\n",
      "        5.60578528, 97.42104811, 94.11072736,  7.76097278, 53.25421585,\n",
      "        7.22337052,  7.22337052,  3.79382042, 40.6126095 , 33.2430772 ,\n",
      "       10.51374749, 12.63972335, 23.38608656,  4.74085938, 53.25421585,\n",
      "        7.22337052, 30.85119339, 53.25421585,  7.77462419,  3.79382042,\n",
      "        0.26957471, 44.385919  , 30.85119339, 36.53667782,  4.20159646,\n",
      "       22.90082585,  6.77429397, 33.2430772 ,  5.46371592,  4.81348707,\n",
      "        5.60578528,  5.63270082,  7.81872508, 38.42093111,  7.77462419]), best_individual_index=16\n",
      "Optimal X : -9.870210135160288\n",
      "Optimla f(x): 97.42104811222087\n"
     ]
    }
   ],
   "source": [
    "import numpy as np\n",
    "\n",
    "def objective_function(population):\n",
    "    return population**2\n",
    "\n",
    "population_size = 50\n",
    "generations = 100\n",
    "mutation_rate = 0.2\n",
    "\n",
    "population = np.random.uniform(-10,10, size=population_size)\n",
    "\n",
    "for generation in range(generations):\n",
    "    fitness = objective_function(population)\n",
    "    selected_population = sorted(population, reverse=True)\n",
    "    crossover_population = np.random.choice(selected_population, size=population_size) #crossover\n",
    "    mutation_mask = np.random.rand(population_size) < mutation_rate #setting up mutation\n",
    "    mutation_population = np.random.uniform(-1,1, size=population_size) \n",
    "    crossover_population[mutation_mask] += mutation_population[mutation_mask]\n",
    "    population = crossover_population\n",
    "\n",
    "best_individual_index = np.argmax(objective_function(population))\n",
    "print(f\"{objective_function(population)=}, {best_individual_index=}\")\n",
    "best_x = population[best_individual_index]\n",
    "print(f\"Optimal X : {best_x}\")\n",
    "print(f\"Optimla f(x): {objective_function(best_x)}\")"
   ]
  }
 ],
 "metadata": {
  "kernelspec": {
   "display_name": "Python 3",
   "language": "python",
   "name": "python3"
  },
  "language_info": {
   "codemirror_mode": {
    "name": "ipython",
    "version": 3
   },
   "file_extension": ".py",
   "mimetype": "text/x-python",
   "name": "python",
   "nbconvert_exporter": "python",
   "pygments_lexer": "ipython3",
   "version": "3.11.5"
  }
 },
 "nbformat": 4,
 "nbformat_minor": 2
}
