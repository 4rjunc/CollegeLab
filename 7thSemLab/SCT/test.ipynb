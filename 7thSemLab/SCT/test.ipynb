{
 "cells": [
  {
   "cell_type": "code",
   "execution_count": 47,
   "metadata": {},
   "outputs": [
    {
     "name": "stdout",
     "output_type": "stream",
     "text": [
      " Optimal value of X : -10.969510232715553\n",
      "Optimal value of f(x) : 120.33015474565123\n"
     ]
    }
   ],
   "source": [
    "import numpy as np\n",
    "\n",
    "def objective_function(x):\n",
    "    return x**2\n",
    "\n",
    "population_size = 50\n",
    "generations = 10\n",
    "mutation_rate = 0.2\n",
    "\n",
    "population = np.random.uniform(-10,10,size=population_size)\n",
    "\n",
    "for generation in range(generations):\n",
    "    fitness = objective_function(population)\n",
    "    selected_population = sorted(population, reverse=True)\n",
    "\n",
    "    crossover_population = np.random.choice(selected_population,size=population_size)\n",
    "    mutation_mask = np.random.rand(population_size) < mutation_rate\n",
    "    mutation_population = np.random.uniform(-1,-1, size=population_size)\n",
    "    crossover_population[mutation_mask] += mutation_population[mutation_mask]\n",
    "    \n",
    "    population = crossover_population\n",
    "\n",
    "best_individual_index = np.argmax(objective_function(population))\n",
    "best_x = population[best_individual_index]\n",
    "print(f\" Optimal value of X : {best_x}\\nOptimal value of f(x) : {objective_function(best_x)}\")"
   ]
  }
 ],
 "metadata": {
  "kernelspec": {
   "display_name": "Python 3",
   "language": "python",
   "name": "python3"
  },
  "language_info": {
   "codemirror_mode": {
    "name": "ipython",
    "version": 3
   },
   "file_extension": ".py",
   "mimetype": "text/x-python",
   "name": "python",
   "nbconvert_exporter": "python",
   "pygments_lexer": "ipython3",
   "version": "3.11.5"
  }
 },
 "nbformat": 4,
 "nbformat_minor": 2
}
